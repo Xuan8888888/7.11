{
 "cells": [
  {
   "cell_type": "code",
   "execution_count": 7,
   "id": "a4761168-1f4e-493f-8c0c-656f22bd487a",
   "metadata": {},
   "outputs": [
    {
     "name": "stdout",
     "output_type": "stream",
     "text": [
      "Requirement already satisfied: transformers in c:\\programdata\\anaconda3\\lib\\site-packages (4.53.1)\n",
      "Requirement already satisfied: torch in c:\\programdata\\anaconda3\\lib\\site-packages (2.7.1)\n",
      "Requirement already satisfied: filelock in c:\\programdata\\anaconda3\\lib\\site-packages (from transformers) (3.13.1)\n",
      "Requirement already satisfied: huggingface-hub<1.0,>=0.30.0 in c:\\programdata\\anaconda3\\lib\\site-packages (from transformers) (0.33.0)\n",
      "Requirement already satisfied: numpy>=1.17 in c:\\programdata\\anaconda3\\lib\\site-packages (from transformers) (1.26.4)\n",
      "Requirement already satisfied: packaging>=20.0 in c:\\programdata\\anaconda3\\lib\\site-packages (from transformers) (24.1)\n",
      "Requirement already satisfied: pyyaml>=5.1 in c:\\programdata\\anaconda3\\lib\\site-packages (from transformers) (6.0.1)\n",
      "Requirement already satisfied: regex!=2019.12.17 in c:\\programdata\\anaconda3\\lib\\site-packages (from transformers) (2024.9.11)\n",
      "Requirement already satisfied: requests in c:\\programdata\\anaconda3\\lib\\site-packages (from transformers) (2.32.3)\n",
      "Requirement already satisfied: tokenizers<0.22,>=0.21 in c:\\programdata\\anaconda3\\lib\\site-packages (from transformers) (0.21.1)\n",
      "Requirement already satisfied: safetensors>=0.4.3 in c:\\programdata\\anaconda3\\lib\\site-packages (from transformers) (0.5.3)\n",
      "Requirement already satisfied: tqdm>=4.27 in c:\\programdata\\anaconda3\\lib\\site-packages (from transformers) (4.66.5)\n",
      "Requirement already satisfied: typing-extensions>=4.10.0 in c:\\programdata\\anaconda3\\lib\\site-packages (from torch) (4.11.0)\n",
      "Requirement already satisfied: sympy>=1.13.3 in c:\\programdata\\anaconda3\\lib\\site-packages (from torch) (1.14.0)\n",
      "Requirement already satisfied: networkx in c:\\programdata\\anaconda3\\lib\\site-packages (from torch) (2.8.8)\n",
      "Requirement already satisfied: jinja2 in c:\\programdata\\anaconda3\\lib\\site-packages (from torch) (3.1.4)\n",
      "Requirement already satisfied: fsspec in c:\\programdata\\anaconda3\\lib\\site-packages (from torch) (2024.6.1)\n",
      "Requirement already satisfied: setuptools in c:\\programdata\\anaconda3\\lib\\site-packages (from torch) (75.1.0)\n",
      "Requirement already satisfied: mpmath<1.4,>=1.1.0 in c:\\programdata\\anaconda3\\lib\\site-packages (from sympy>=1.13.3->torch) (1.3.0)\n",
      "Requirement already satisfied: colorama in c:\\programdata\\anaconda3\\lib\\site-packages (from tqdm>=4.27->transformers) (0.4.6)\n",
      "Requirement already satisfied: MarkupSafe>=2.0 in c:\\programdata\\anaconda3\\lib\\site-packages (from jinja2->torch) (2.1.3)\n",
      "Requirement already satisfied: charset-normalizer<4,>=2 in c:\\programdata\\anaconda3\\lib\\site-packages (from requests->transformers) (3.3.2)\n",
      "Requirement already satisfied: idna<4,>=2.5 in c:\\programdata\\anaconda3\\lib\\site-packages (from requests->transformers) (3.7)\n",
      "Requirement already satisfied: urllib3<3,>=1.21.1 in c:\\programdata\\anaconda3\\lib\\site-packages (from requests->transformers) (2.2.3)\n",
      "Requirement already satisfied: certifi>=2017.4.17 in c:\\programdata\\anaconda3\\lib\\site-packages (from requests->transformers) (2025.4.26)\n"
     ]
    }
   ],
   "source": [
    "!pip install transformers torch"
   ]
  },
  {
   "cell_type": "code",
   "execution_count": 1,
   "id": "1db496bf-615f-4389-a12e-cdab530cd10a",
   "metadata": {},
   "outputs": [],
   "source": [
    "import pandas as pd\n",
    "import torch\n",
    "from transformers import AutoTokenizer, AutoModelForSeq2SeqLM\n",
    "\n",
    "# 1. 读取原始文件\n",
    "file_path = \"D:/ML-3DPrinting-Project/data/smiles.xlsx\"\n",
    "df = pd.read_excel(file_path)\n",
    "\n",
    "# 2. 过滤出 is_homopolymer == 1 的均聚物\n",
    "homopolymer_df = df[df[\"is_homopolymer\"] == 1].copy()\n",
    "homopolymer_df = homopolymer_df[[\"material_name\", \"BigSMILES\"]].dropna()\n",
    "\n",
    "# 3. 加载模型\n",
    "tokenizer = AutoTokenizer.from_pretrained(\"hkqiu/PolyTAO-BigSMILES_Version\")\n",
    "model = AutoModelForSeq2SeqLM.from_pretrained(\"hkqiu/PolyTAO-BigSMILES_Version\")\n",
    "model.eval()\n",
    "\n",
    "# 4. 定义嵌入提取函数\n",
    "def get_embedding(bigsmiles):\n",
    "    inputs = tokenizer(bigsmiles, return_tensors=\"pt\")\n",
    "    with torch.no_grad():\n",
    "        outputs = model.encoder(**inputs)\n",
    "    return outputs.last_hidden_state.mean(dim=1).squeeze().numpy()\n",
    "\n",
    "# 5. 提取 embedding 并展开成多个列\n",
    "embeddings = []\n",
    "material_names = []\n",
    "\n",
    "for name, smile in zip(homopolymer_df[\"material_name\"], homopolymer_df[\"BigSMILES\"]):\n",
    "    try:\n",
    "        emb = get_embedding(smile)\n",
    "        embeddings.append(emb)\n",
    "        material_names.append(name)\n",
    "    except:\n",
    "        print(f\"⚠️ Failed for: {name}\")\n",
    "        continue\n",
    "\n",
    "embedding_df = pd.DataFrame(embeddings, columns=[f\"polyTAO_emb_{i}\" for i in range(len(embeddings[0]))])\n",
    "embedding_df[\"material_name\"] = material_names\n",
    "\n",
    "# 6. 合并到原始 DataFrame\n",
    "merged_df = df.merge(embedding_df, on=\"material_name\", how=\"left\")\n",
    "\n",
    "# 7. 保存新文件\n",
    "merged_df.to_excel(\"D:/ML-3DPrinting-Project/data/smiles_with_polyTAO_embedding.xlsx\", index=False)\n"
   ]
  },
  {
   "cell_type": "code",
   "execution_count": null,
   "id": "04bd7bf9-9611-4aa0-b159-83bad6db3c28",
   "metadata": {},
   "outputs": [],
   "source": []
  }
 ],
 "metadata": {
  "kernelspec": {
   "display_name": "Python [conda env:base] *",
   "language": "python",
   "name": "conda-base-py"
  },
  "language_info": {
   "codemirror_mode": {
    "name": "ipython",
    "version": 3
   },
   "file_extension": ".py",
   "mimetype": "text/x-python",
   "name": "python",
   "nbconvert_exporter": "python",
   "pygments_lexer": "ipython3",
   "version": "3.12.3"
  }
 },
 "nbformat": 4,
 "nbformat_minor": 5
}
