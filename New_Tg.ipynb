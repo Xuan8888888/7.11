{
 "cells": [
  {
   "cell_type": "code",
   "execution_count": 2,
   "id": "d3569a16-b41a-4e2b-ac48-efd2b72de217",
   "metadata": {},
   "outputs": [
    {
     "name": "stdout",
     "output_type": "stream",
     "text": [
      "✅ 加权融合完成，已保存至： D:\\ML-3DPrinting-Project\\data\\7.9_datasets\\regression_with_weighted_features.xlsx\n"
     ]
    }
   ],
   "source": [
    "import pandas as pd\n",
    "import numpy as np\n",
    "from collections import Counter\n",
    "\n",
    "# === 文件路径 ===\n",
    "main_path = r\"D:\\ML-3DPrinting-Project\\data\\7.9_datasets\\2_regression_original.xlsx\"\n",
    "smiles_path = r\"D:\\ML-3DPrinting-Project\\data\\7.9_datasets\\smiles.xlsx\"\n",
    "output_path = r\"D:\\ML-3DPrinting-Project\\data\\7.9_datasets\\regression_with_weighted_features.xlsx\"\n",
    "\n",
    "# === 读取数据 ===\n",
    "df_main = pd.read_excel(main_path)\n",
    "df_smiles = pd.read_excel(smiles_path)\n",
    "\n",
    "# === 预处理：统一 material_name 为索引 ===\n",
    "df_smiles = df_smiles.copy()\n",
    "df_smiles[\"material_name\"] = df_smiles[\"material_name\"].str.strip()\n",
    "df_smiles.set_index(\"material_name\", inplace=True)\n",
    "\n",
    "# === 数值型特征列 ===\n",
    "num_features = [\"Tg\", \"mw_estimate\", \"viscosity_mPas\"]\n",
    "\n",
    "# === 将 Tg 转为 float（去掉非数字） ===\n",
    "def parse_float(x):\n",
    "    try:\n",
    "        return float(str(x).strip().replace(\"°C\", \"\").replace(\"℃\", \"\"))\n",
    "    except:\n",
    "        return np.nan\n",
    "\n",
    "df_smiles[\"Tg\"] = df_smiles[\"Tg\"].apply(parse_float)\n",
    "\n",
    "# === 类别型特征列 ===\n",
    "cat_features = [\"grade_code\", \"Brand\"]\n",
    "\n",
    "# === 所有成分列（从 df_main 中自动识别） ===\n",
    "ingredient_columns = [col for col in df_main.columns if col in df_smiles.index]\n",
    "\n",
    "# === 函数：计算每一行配方的加权特征 ===\n",
    "def weighted_feature(row, feature_name, feature_type=\"num\"):\n",
    "    weighted_values = []\n",
    "    weights = []\n",
    "    for col in ingredient_columns:\n",
    "        amount = row.get(col, 0)\n",
    "        if pd.notna(amount) and amount > 0:\n",
    "            try:\n",
    "                val = df_smiles.at[col, feature_name]\n",
    "            except KeyError:\n",
    "                continue\n",
    "            if pd.notna(val):\n",
    "                weights.append(amount)\n",
    "                weighted_values.append(val)\n",
    "    if not weighted_values or sum(weights) == 0:\n",
    "        return np.nan\n",
    "\n",
    "    if feature_type == \"num\":\n",
    "        arr = np.array(weighted_values, dtype=float)\n",
    "        return np.average(arr, weights=weights)\n",
    "    elif feature_type == \"cat\":\n",
    "        counts = Counter()\n",
    "        for val, w in zip(weighted_values, weights):\n",
    "            counts[val] += w\n",
    "        return counts.most_common(1)[0][0]\n",
    "    else:\n",
    "        return np.nan\n",
    "\n",
    "# === 执行加权融合 ===\n",
    "for feat in num_features:\n",
    "    df_main[f\"weighted_{feat}\"] = df_main.apply(lambda row: weighted_feature(row, feat, \"num\"), axis=1)\n",
    "\n",
    "for feat in cat_features:\n",
    "    df_main[f\"weighted_{feat}\"] = df_main.apply(lambda row: weighted_feature(row, feat, \"cat\"), axis=1)\n",
    "\n",
    "# === 保存结果 ===\n",
    "df_main.to_excel(output_path, index=False)\n",
    "print(\"✅ 加权融合完成，已保存至：\", output_path)\n"
   ]
  },
  {
   "cell_type": "code",
   "execution_count": 2,
   "id": "9b7fd11d-a7a2-4043-a506-016cab7bae8d",
   "metadata": {},
   "outputs": [
    {
     "name": "stdout",
     "output_type": "stream",
     "text": [
      "✅ 合并完成，文件保存为： D:\\ML-3DPrinting-Project\\data\\7.9_datasets\\regression_all_chembert_rdkit_mordred.xlsx\n"
     ]
    }
   ],
   "source": [
    "import pandas as pd\n",
    "\n",
    "# 1. 读取两个文件\n",
    "path_chemberta = r\"D:\\ML-3DPrinting-Project\\data\\7.9_datasets\\regression_with_chemberta_rdkit.xlsx\"\n",
    "path_mordred = r\"D:\\ML-3DPrinting-Project\\data\\7.9_datasets\\regression_with_mordred.xlsx\"\n",
    "\n",
    "df_rdkit = pd.read_excel(path_chemberta)\n",
    "df_mordred = pd.read_excel(path_mordred)\n",
    "\n",
    "# 2. 提取 rdkit_0 至 rdkit_127 列\n",
    "rdkit_cols = [f\"rdkit_{i}\" for i in range(128)]\n",
    "df_rdkit_subset = df_rdkit[rdkit_cols].copy()\n",
    "\n",
    "# 3. 将 rdkit 列嫁接到 mordred 文件末尾\n",
    "df_combined = pd.concat([df_mordred, df_rdkit_subset], axis=1)\n",
    "\n",
    "# 4. 保存结果\n",
    "save_path = r\"D:\\ML-3DPrinting-Project\\data\\7.9_datasets\\regression_all_chembert_rdkit_mordred.xlsx\"\n",
    "df_combined.to_excel(save_path, index=False)\n",
    "\n",
    "print(\"✅ 合并完成，文件保存为：\", save_path)\n"
   ]
  },
  {
   "cell_type": "code",
   "execution_count": 1,
   "id": "8bf8ffd0-9a94-4a5a-b851-14cac6525f05",
   "metadata": {},
   "outputs": [
    {
     "name": "stdout",
     "output_type": "stream",
     "text": [
      "✅ 拼接完成，新文件保存为 regression_all_with_Tg.xlsx\n"
     ]
    }
   ],
   "source": [
    "import pandas as pd\n",
    "\n",
    "# 读取包含 weighted_Tg 的文件\n",
    "tg_path = r\"D:\\ML-3DPrinting-Project\\data\\7.9_datasets\\regression_with_Tg.xlsx\"\n",
    "df_tg = pd.read_excel(tg_path)\n",
    "\n",
    "# 读取目标文件\n",
    "target_path = r\"D:\\ML-3DPrinting-Project\\data\\7.9_datasets\\regression_all_chembert_rdkit_mordred.xlsx\"\n",
    "df_target = pd.read_excel(target_path)\n",
    "\n",
    "# 检查行数是否一致（必须对得上）\n",
    "assert len(df_tg) == len(df_target), \"两个文件的行数不一致，无法直接拼接！\"\n",
    "\n",
    "# 提取 Tg 列并拼接\n",
    "df_target['weighted_Tg'] = df_tg['weighted_Tg'].values\n",
    "\n",
    "# 保存新文件\n",
    "output_path = r\"D:\\ML-3DPrinting-Project\\data\\7.9_datasets\\regression_all_final.xlsx\"\n",
    "df_target.to_excel(output_path, index=False)\n",
    "\n",
    "print(\"✅ 拼接完成，新文件保存为 regression_all_with_Tg.xlsx\")\n"
   ]
  },
  {
   "cell_type": "code",
   "execution_count": null,
   "id": "ba6b4857-d6fa-46a2-971e-952894f4335f",
   "metadata": {},
   "outputs": [],
   "source": []
  }
 ],
 "metadata": {
  "kernelspec": {
   "display_name": "Python [conda env:base] *",
   "language": "python",
   "name": "conda-base-py"
  },
  "language_info": {
   "codemirror_mode": {
    "name": "ipython",
    "version": 3
   },
   "file_extension": ".py",
   "mimetype": "text/x-python",
   "name": "python",
   "nbconvert_exporter": "python",
   "pygments_lexer": "ipython3",
   "version": "3.12.3"
  }
 },
 "nbformat": 4,
 "nbformat_minor": 5
}
